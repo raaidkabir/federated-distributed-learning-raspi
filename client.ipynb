{
 "cells": [
  {
   "cell_type": "code",
   "execution_count": 6,
   "id": "ee868e7c-2b2a-4d76-a4a5-35941725e940",
   "metadata": {},
   "outputs": [],
   "source": [
    "import tensorflow as tf\n",
    "from tensorflow.keras.models import Sequential\n",
    "from sklearn.preprocessing import MinMaxScaler\n",
    "from tensorflow.keras.layers import LSTM, Dense\n",
    "import numpy as np\n",
    "import socket\n",
    "import struct\n",
    "import pickle\n",
    "import pandas as pd\n",
    "from sklearn.model_selection import train_test_split\n"
   ]
  },
  {
   "cell_type": "code",
   "execution_count": 7,
   "id": "ba1d24a2-f073-441e-a2e7-876aaa8fc07f",
   "metadata": {},
   "outputs": [],
   "source": [
    "# Load data\n",
    "df = pd.read_csv('dataset.csv')\n",
    "\n",
    "# Convert 'date' to datetime and set as index\n",
    "df['date'] = pd.to_datetime(df['date'])\n",
    "df.set_index('date', inplace=True)\n",
    "\n",
    "# Assuming 'index' column is to be dropped\n",
    "df.drop('index', axis=1, inplace=True)\n",
    "\n",
    "# Split dataset function\n",
    "def split_dataset(data):\n",
    "    train, test = data[:27000], data[27000:27000+15840]\n",
    "    train = np.array(np.split(train, len(train)//10))\n",
    "    test = np.array(np.split(test, len(test)//10))\n",
    "    return train, test\n",
    "\n",
    "# Convert to supervised\n",
    "def to_supervised(train, n_input, n_out=60):\n",
    "\tdata = train.reshape((train.shape[0]*train.shape[1], 1))\n",
    "\tX, y = list(), list()\n",
    "\tin_start = 0\n",
    "\tfor _ in range(len(data)):\n",
    "\t\tin_end = in_start + n_input\n",
    "\t\tout_end = in_end + n_out\n",
    "\t\tif out_end <= len(data):\n",
    "\t\t\tX.append(data[in_start:in_end, :])\n",
    "\t\t\ty.append(data[in_end:out_end, 0])\n",
    "\t\tin_start += 1\n",
    "\treturn np.array(X), np.array(y)\n",
    "\n",
    "# Apply split and supervised transformation\n",
    "train, test = split_dataset(df)\n",
    "train_x, train_y = to_supervised(train, 10, 10)"
   ]
  },
  {
   "cell_type": "code",
   "execution_count": 8,
   "id": "32fd3c9e-1723-4592-8e07-83b416a7d8b8",
   "metadata": {},
   "outputs": [],
   "source": [
    "def create_lstm_model():\n",
    "    model = Sequential([\n",
    "        LSTM(200, input_shape=(10, 1), activation='relu'),  # Adjust input_shape based on your dataset\n",
    "        Dense(100, activation='relu'),\n",
    "        Dense(10)\n",
    "    ])\n",
    "    model.compile(optimizer='adam', loss='mse', metrics=['accuracy'])\n",
    "    return model"
   ]
  },
  {
   "cell_type": "code",
   "execution_count": 9,
   "id": "86e1a276-b961-4452-9c3b-35cbf936647a",
   "metadata": {},
   "outputs": [],
   "source": [
    "def send_msg(sock, msg):\n",
    "    msg = pickle.dumps(msg)\n",
    "    msg = struct.pack('>I', len(msg)) + msg\n",
    "    sock.sendall(msg)\n",
    "\n",
    "def recv_msg(sock):\n",
    "    raw_msglen = recvall(sock, 4)\n",
    "    if not raw_msglen:\n",
    "        return None\n",
    "    msglen = struct.unpack('>I', raw_msglen)[0]\n",
    "    return pickle.loads(recvall(sock, msglen))\n",
    "\n",
    "def recvall(sock, n):\n",
    "    data = bytearray()\n",
    "    while len(data) < n:\n",
    "        packet = sock.recv(n - len(data))\n",
    "        if not packet:\n",
    "            return None\n",
    "        data.extend(packet)\n",
    "    return data\n"
   ]
  },
  {
   "cell_type": "code",
   "execution_count": 10,
   "id": "f9b0e38c-06a9-4f9c-b429-58e1316284e1",
   "metadata": {},
   "outputs": [
    {
     "name": "stdout",
     "output_type": "stream",
     "text": [
      "Train on 26981 samples\n",
      "26981/26981 [==============================] - 26s 958us/sample - loss: 142.9662 - accuracy: 0.0970\n"
     ]
    }
   ],
   "source": [
    "def client_main(host='localhost', port=12345):\n",
    "    s = socket.socket(socket.AF_INET, socket.SOCK_STREAM)\n",
    "    s.connect((host, port))\n",
    "\n",
    "    # Receive initial model weights\n",
    "    weights = recv_msg(s)\n",
    "    \n",
    "    # Load and prepare data\n",
    "    # The data loading and preprocessing code goes here, already provided above\n",
    "    \n",
    "    # Create and compile the model\n",
    "    model = create_lstm_model()\n",
    "    model.set_weights(weights)  # Set model weights to received weights\n",
    "    \n",
    "    # Train model on client's data\n",
    "    model.fit(train_x, train_y, epochs=1, batch_size=32, verbose=1)\n",
    "    \n",
    "    # Send updated weights back to server\n",
    "    updated_weights = model.get_weights()\n",
    "    send_msg(s, updated_weights)\n",
    "    \n",
    "    s.close()\n",
    "\n",
    "if __name__ == \"__main__\":\n",
    "    client_main()\n"
   ]
  }
 ],
 "metadata": {
  "kernelspec": {
   "display_name": "Python 3",
   "language": "python",
   "name": "python3"
  },
  "language_info": {
   "codemirror_mode": {
    "name": "ipython",
    "version": 3
   },
   "file_extension": ".py",
   "mimetype": "text/x-python",
   "name": "python",
   "nbconvert_exporter": "python",
   "pygments_lexer": "ipython3",
   "version": "3.6.13"
  }
 },
 "nbformat": 4,
 "nbformat_minor": 5
}
